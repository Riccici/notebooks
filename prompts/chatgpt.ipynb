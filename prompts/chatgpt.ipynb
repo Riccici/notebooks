{
 "cells": [
  {
   "cell_type": "markdown",
   "metadata": {},
   "source": [
    "首先安装 openai 依赖库\n"
   ]
  },
  {
   "cell_type": "code",
   "execution_count": null,
   "metadata": {},
   "outputs": [],
   "source": [
    "%pip install --upgrade openai\n",
    "%pip install python-dotenv\n",
    "%pip install black\n"
   ]
  },
  {
   "cell_type": "markdown",
   "metadata": {},
   "source": [
    "测试 OpenAI 调用\n"
   ]
  },
  {
   "cell_type": "code",
   "execution_count": 1,
   "metadata": {},
   "outputs": [
    {
     "name": "stdout",
     "output_type": "stream",
     "text": [
      "As an artificial intelligence, I don't have feelings, but I'm operational and ready to assist you. How can I help you today?\n"
     ]
    }
   ],
   "source": [
    "from openai_init import *\n",
    "\n",
    "# 测试函数\n",
    "response = chat_with_gpt4([{\"role\": \"user\", \"content\": \"Hello, how are you?\"}])\n",
    "print(response)"
   ]
  },
  {
   "cell_type": "markdown",
   "metadata": {},
   "source": [
    "C++编程助手\n"
   ]
  },
  {
   "cell_type": "code",
   "execution_count": null,
   "metadata": {},
   "outputs": [],
   "source": [
    "from openai_init import *\n",
    "\n",
    "\n",
    "SYSTEM_PROMPT = \"\"\"\n",
    "你作为一个C++编程语言专家，我向你提出针对C++语言的一些问题，你需要基于C++20标准给我提供具体的编程解决方案，并详细解释当中的具体原理，最好包括文档链接还有demo代码。在回答中的如果出现专业术语请在术语后面添加括号，并在括号当中附带原英文原文。文档链接的出处要求全部来自 [cppreference.com](http://cppreference.com) 这个网站。\n",
    "我提出的新问题都是以下面格式作为开头：\n",
    "“如何理解XXX”：这个格式的提问代表我想要知道某项语言特性或者运行机制\n",
    "“如何实现XXX”：这个格式的提问代表我想要知道使用C++解决问题的具体实现方案\n",
    "“检查代码XXX”：这个格式的提问代表我想要知道代码中的bug还有优化建议\n",
    "如果我输入的内容不符合上述格式，那么代表我在对之前的提问进行追问，而不是提出一个新问题。\n",
    "对于追问不必严格遵循下面的回答格式，但是包含的信息不能缺少。\n",
    "回答的格式分为三部分：\n",
    "解释部分：在这部分为我解释具体方案和原理\n",
    "代码部分：包含具体的Demo代码或者优化/改正建议\n",
    "参考链接部分：包含所有涉及到的知识点对应的文档链接\n",
    "如果明白我的意思请回复“我明白”\n",
    "\"\"\"\n",
    "\n",
    "messages = [{\"role\": \"system\", \"content\": SYSTEM_PROMPT}]\n",
    "\n",
    "messages.append({\"role\": \"user\", \"content\": \"如何理解C++的RAII机制\"})\n",
    "\n",
    "\n",
    "print(chat_with_gpt4(messages))"
   ]
  }
 ],
 "metadata": {
  "kernelspec": {
   "display_name": ".venv",
   "language": "python",
   "name": "python3"
  },
  "language_info": {
   "codemirror_mode": {
    "name": "ipython",
    "version": 3
   },
   "file_extension": ".py",
   "mimetype": "text/x-python",
   "name": "python",
   "nbconvert_exporter": "python",
   "pygments_lexer": "ipython3",
   "version": "3.10.11"
  },
  "orig_nbformat": 4
 },
 "nbformat": 4,
 "nbformat_minor": 2
}
